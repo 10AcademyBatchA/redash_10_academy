{
 "cells": [
  {
   "cell_type": "code",
   "execution_count": 1,
   "id": "d0e976dd-8947-4761-859d-463b25f8e87e",
   "metadata": {},
   "outputs": [],
   "source": [
    "import pandas as pd\n",
    "import os\n",
    "import sys"
   ]
  },
  {
   "cell_type": "code",
   "execution_count": 2,
   "id": "b2c14996-e9c9-4cf4-a7e4-21be382bb71f",
   "metadata": {},
   "outputs": [],
   "source": [
    "rpath = os.path.abspath('..')\n",
    "if rpath not in sys.path:\n",
    "    sys.path.insert(0, rpath)"
   ]
  },
  {
   "cell_type": "code",
   "execution_count": 3,
   "id": "8ca51afa-4674-46c7-a3a9-8acd8e8d1554",
   "metadata": {},
   "outputs": [],
   "source": [
    "from connection.connect_to_postgres import ConnectToPostgres\n",
    "conn = ConnectToPostgres()\n",
    "engine = conn.get_engine()"
   ]
  },
  {
   "cell_type": "markdown",
   "id": "093df25b-48e6-442c-a51e-ff0321f14ea7",
   "metadata": {},
   "source": [
    "## Cities"
   ]
  },
  {
   "cell_type": "code",
   "execution_count": 5,
   "id": "065011b0-02cd-403f-9011-cd699b8f1aa3",
   "metadata": {},
   "outputs": [],
   "source": [
    "cities_info = pd.read_csv(\"../youtube-data/Cities/Table data.csv\")\n",
    "# Extract column to save to database \n",
    "# Rename columns\n",
    "column_mapping = {\n",
    "    \"Cities\": \"cities\",\n",
    "    \"City name\": \"name\",\n",
    "    \"Geography\": \"geography\",\n",
    "    \"Geography.1\": \"geography_with_capital\",\n",
    "    \"Watch time (hours)\": \"watch_time_in_hours\",\n",
    "    \"Average view duration\": \"average_time_duration\"\n",
    "}\n",
    "cities_info = cities_info.rename(columns=column_mapping)\n",
    "new_df = cities_info.iloc[1:].copy()\n",
    "column_to_exclude = 'Views'\n",
    "new_df = new_df.drop(column_to_exclude, axis=1)\n",
    "# new_df.head()\n",
    "table_name = \"cities_info\"\n",
    "new_df.to_sql(table_name, engine, index=False, if_exists='append')"
   ]
  },
  {
   "cell_type": "code",
   "execution_count": 12,
   "id": "025d501a-5475-4561-b355-e896a90fb535",
   "metadata": {},
   "outputs": [],
   "source": [
    "cities_chart = pd.read_csv(\"../youtube-data/Cities/Chart data.csv\")\n",
    "# Extract column to save to database\n",
    "new_column_mapping = {\n",
    "    \"Date\": \"date\",\n",
    "    \"Views\": \"views\",\n",
    "    \"Cities\": \"cities\",\n",
    "}\n",
    "cities_chart_col_to_exclude = \"City name\"\n",
    "new_cities_df = cities_chart.drop(cities_chart_col_to_exclude, axis=1, inplace=False)\n",
    "new_cities_chart_df = new_cities_df.rename(columns=new_column_mapping)\n",
    "new_cities_chart_df = new_cities_chart_df.iloc[1:].copy()\n",
    "new_cities_chart_df.head()\n",
    "table_name = \"cities_chart\"\n",
    "new_cities_chart_df.to_sql(table_name, engine, index=False, if_exists='append')"
   ]
  },
  {
   "cell_type": "markdown",
   "id": "5ebc8ae9-3115-4447-97c1-fbe00df2b940",
   "metadata": {},
   "source": [
    "## Content"
   ]
  },
  {
   "cell_type": "code",
   "execution_count": 13,
   "id": "5438f94e-2eaf-426f-9d06-449decab25f2",
   "metadata": {},
   "outputs": [],
   "source": [
    "content_info = pd.read_csv(\"../youtube-data/Content type/Table data.csv\")\n",
    "# Extract columns to database\n",
    "# Rename columns\n",
    "column_mapping_for_content_info = {\n",
    "    \"Content type\": \"content_type\",\n",
    "    \"Watch time (hours)\": \"watch_time_in_hours\",\n",
    "    \"Average view duration\": \"average_time_duration\"\n",
    "}\n",
    "content_info_rename_df = content_info.rename(columns=column_mapping_for_content_info)\n",
    "column_to_exclude = 'Views'\n",
    "new_content_info_df = content_info_rename_df.drop(column_to_exclude, axis=1)\n",
    "new_content_info_df = new_content_info_df.iloc[1:].copy()\n",
    "table_name = \"content_type_info\"\n",
    "new_content_info_df.to_sql(table_name, engine, index=False, if_exists='append')"
   ]
  },
  {
   "cell_type": "code",
   "execution_count": 14,
   "id": "09160863-a48c-46c4-8035-10abc67e1758",
   "metadata": {},
   "outputs": [],
   "source": [
    "content_chart = pd.read_csv(\"../youtube-data/Content type/Chart data.csv\")\n",
    "# Extract columns to database\n",
    "# Rename columns\n",
    "column_mapping_for_content_chart = {\n",
    "    \"Date\": \"date\",\n",
    "    \"Views\": \"views\",\n",
    "    \"Content type\": \"content_types\",\n",
    "}\n",
    "# To do: find another way to create the foreign key\n",
    "content_chart_rename_df = content_chart.rename(columns=column_mapping_for_content_chart)\n",
    "content_type_mapping = {\"Other\": 1, \"Videos\": 2}\n",
    "content_chart_rename_df[\"content_types\"] = content_chart_rename_df[\"content_types\"].map(content_type_mapping)\n",
    "table_name = \"content_type_chart\"\n",
    "content_chart_rename_df.to_sql(table_name, engine, index=False, if_exists='append')"
   ]
  },
  {
   "cell_type": "markdown",
   "id": "f1ae02e5-48f0-494d-a263-d154d4ee5ec4",
   "metadata": {},
   "source": [
    "## Devices"
   ]
  },
  {
   "cell_type": "code",
   "execution_count": 15,
   "id": "2116393b-6238-45e4-be83-f3f6f6387508",
   "metadata": {},
   "outputs": [],
   "source": [
    "device_info = pd.read_csv(\"../youtube-data/Device type/Table data.csv\")\n",
    "# Extract columns to database\n",
    "# Rename columns\n",
    "column_mapping_for_device_info = {\n",
    "    \"Device type\": \"device_type\",\n",
    "    \"Watch time (hours)\": \"watch_time_in_hours\",\n",
    "    \"Average view duration\": \"average_time_duration\"\n",
    "}\n",
    "device_info_rename_df = device_info.rename(columns=column_mapping_for_device_info)\n",
    "column_to_exclude = 'Views'\n",
    "new_device_info_df = device_info_rename_df.drop(column_to_exclude, axis=1)\n",
    "new_device_info_df = new_device_info_df.iloc[1:].copy()\n",
    "table_name = \"device_type_info\"\n",
    "new_device_info_df.to_sql(table_name, engine, index=False, if_exists='append')"
   ]
  },
  {
   "cell_type": "code",
   "execution_count": 16,
   "id": "aec6a5fd-fa60-4092-9cf1-dac65cbaf6b4",
   "metadata": {},
   "outputs": [],
   "source": [
    "device_chart = pd.read_csv(\"../youtube-data/Device type/Chart data.csv\")\n",
    "# Extract columns to database\n",
    "# Rename columns\n",
    "column_mapping_for_device_chart = {\n",
    "    \"Date\": \"date\",\n",
    "    \"Views\": \"views\",\n",
    "    \"Device type\": \"device_types\",\n",
    "}\n",
    "# To do: find another way to create the foreign key\n",
    "device_chart_rename_df = device_chart.rename(columns=column_mapping_for_device_chart)\n",
    "device_chart_rename_df\n",
    "device_type_mapping = {\"Computer\": 1, \"Mobile phone\": 2, \"Tablet\": 3, \"TV\": 4}\n",
    "device_chart_rename_df[\"device_types\"] = device_chart_rename_df[\"device_types\"].map(device_type_mapping)\n",
    "table_name = \"device_type_chart\"\n",
    "device_chart_rename_df.to_sql(table_name, engine, index=False, if_exists='append')"
   ]
  }
 ],
 "metadata": {
  "kernelspec": {
   "display_name": "Python 3 (ipykernel)",
   "language": "python",
   "name": "python3"
  },
  "language_info": {
   "codemirror_mode": {
    "name": "ipython",
    "version": 3
   },
   "file_extension": ".py",
   "mimetype": "text/x-python",
   "name": "python",
   "nbconvert_exporter": "python",
   "pygments_lexer": "ipython3",
   "version": "3.10.13"
  }
 },
 "nbformat": 4,
 "nbformat_minor": 5
}
