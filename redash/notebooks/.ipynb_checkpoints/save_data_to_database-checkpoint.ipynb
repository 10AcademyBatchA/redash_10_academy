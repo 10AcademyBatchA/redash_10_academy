{
 "cells": [
  {
   "cell_type": "code",
   "execution_count": 7,
   "id": "d0e976dd-8947-4761-859d-463b25f8e87e",
   "metadata": {},
   "outputs": [],
   "source": [
    "import pandas as pd\n",
    "import os\n",
    "import sys"
   ]
  },
  {
   "cell_type": "code",
   "execution_count": 8,
   "id": "b2c14996-e9c9-4cf4-a7e4-21be382bb71f",
   "metadata": {},
   "outputs": [],
   "source": [
    "rpath = os.path.abspath('..')\n",
    "if rpath not in sys.path:\n",
    "    sys.path.insert(0, rpath)"
   ]
  },
  {
   "cell_type": "code",
   "execution_count": 10,
   "id": "8ca51afa-4674-46c7-a3a9-8acd8e8d1554",
   "metadata": {},
   "outputs": [],
   "source": [
    "from connection.connect_to_postgres import ConnectToPostgres\n",
    "conn = ConnectToPostgres()\n",
    "engine = conn.get_engine()"
   ]
  },
  {
   "cell_type": "code",
   "execution_count": 40,
   "id": "065011b0-02cd-403f-9011-cd699b8f1aa3",
   "metadata": {},
   "outputs": [],
   "source": [
    "cities_info = pd.read_csv(\"../youtube-data/Cities/Table data.csv\")\n",
    "# Extract column to save to database \n",
    "# Rename columns\n",
    "column_mapping = {\n",
    "    \"Cities\": \"cities\",\n",
    "    \"City name\": \"name\",\n",
    "    \"Geography\": \"geography\",\n",
    "    \"Geography.1\": \"geography_with_capital\",\n",
    "    \"Watch time (hours)\": \"watch_time_in_hours\",\n",
    "    \"Average view duration\": \"average_time_duration\"\n",
    "}\n",
    "cities_info = cities_info.rename(columns=column_mapping)\n",
    "new_df = cities_info.iloc[1:].copy()\n",
    "column_to_exclude = 'Views'\n",
    "new_df = new_df.drop(column_to_exclude, axis=1)\n",
    "# new_df.head()\n",
    "table_name = \"cities_info\"\n",
    "# new_df.to_sql(table_name, engine, index=False, if_exists='append')"
   ]
  },
  {
   "cell_type": "code",
   "execution_count": 45,
   "id": "025d501a-5475-4561-b355-e896a90fb535",
   "metadata": {},
   "outputs": [
    {
     "data": {
      "text/html": [
       "<div>\n",
       "<style scoped>\n",
       "    .dataframe tbody tr th:only-of-type {\n",
       "        vertical-align: middle;\n",
       "    }\n",
       "\n",
       "    .dataframe tbody tr th {\n",
       "        vertical-align: top;\n",
       "    }\n",
       "\n",
       "    .dataframe thead th {\n",
       "        text-align: right;\n",
       "    }\n",
       "</style>\n",
       "<table border=\"1\" class=\"dataframe\">\n",
       "  <thead>\n",
       "    <tr style=\"text-align: right;\">\n",
       "      <th></th>\n",
       "      <th>Date</th>\n",
       "      <th>Cities</th>\n",
       "      <th>City name</th>\n",
       "      <th>Views</th>\n",
       "    </tr>\n",
       "  </thead>\n",
       "  <tbody>\n",
       "    <tr>\n",
       "      <th>0</th>\n",
       "      <td>2020-06-28</td>\n",
       "      <td>0x164b85cef5ab402d:0x8467b6b037a24d49</td>\n",
       "      <td>Addis Ababa</td>\n",
       "      <td>0</td>\n",
       "    </tr>\n",
       "    <tr>\n",
       "      <th>1</th>\n",
       "      <td>2020-06-29</td>\n",
       "      <td>0x164b85cef5ab402d:0x8467b6b037a24d49</td>\n",
       "      <td>Addis Ababa</td>\n",
       "      <td>0</td>\n",
       "    </tr>\n",
       "    <tr>\n",
       "      <th>2</th>\n",
       "      <td>2020-06-30</td>\n",
       "      <td>0x164b85cef5ab402d:0x8467b6b037a24d49</td>\n",
       "      <td>Addis Ababa</td>\n",
       "      <td>0</td>\n",
       "    </tr>\n",
       "    <tr>\n",
       "      <th>3</th>\n",
       "      <td>2020-07-01</td>\n",
       "      <td>0x164b85cef5ab402d:0x8467b6b037a24d49</td>\n",
       "      <td>Addis Ababa</td>\n",
       "      <td>0</td>\n",
       "    </tr>\n",
       "    <tr>\n",
       "      <th>4</th>\n",
       "      <td>2020-07-02</td>\n",
       "      <td>0x164b85cef5ab402d:0x8467b6b037a24d49</td>\n",
       "      <td>Addis Ababa</td>\n",
       "      <td>0</td>\n",
       "    </tr>\n",
       "  </tbody>\n",
       "</table>\n",
       "</div>"
      ],
      "text/plain": [
       "         Date                                 Cities    City name  Views\n",
       "0  2020-06-28  0x164b85cef5ab402d:0x8467b6b037a24d49  Addis Ababa      0\n",
       "1  2020-06-29  0x164b85cef5ab402d:0x8467b6b037a24d49  Addis Ababa      0\n",
       "2  2020-06-30  0x164b85cef5ab402d:0x8467b6b037a24d49  Addis Ababa      0\n",
       "3  2020-07-01  0x164b85cef5ab402d:0x8467b6b037a24d49  Addis Ababa      0\n",
       "4  2020-07-02  0x164b85cef5ab402d:0x8467b6b037a24d49  Addis Ababa      0"
      ]
     },
     "execution_count": 45,
     "metadata": {},
     "output_type": "execute_result"
    }
   ],
   "source": [
    "cities_chart = pd.read_csv(\"../youtube-data/Cities/Chart data.csv\")\n",
    "# Extract column to save to database\n",
    "column_mapping = {\n",
    "    \"Date\": \"date\",\n",
    "    \"Views\": \"views\",\n",
    "    \"Cities\": \"cities\",\n",
    "}\n",
    "cities_info_col_to_exclude = \"City name\"\n",
    "new_cities_df = cities_chart.drop(column_to_exclude, axis=1)\n",
    "cities_chart = new_cities_df.rename(columns=column_mapping)\n",
    "new_cities_df.head()\n",
    "# table_name = \"cities_chart\"\n",
    "# new_cities_df.to_sql(table_name, engine, index=False, if_exists='append')"
   ]
  }
 ],
 "metadata": {
  "kernelspec": {
   "display_name": "Python 3 (ipykernel)",
   "language": "python",
   "name": "python3"
  },
  "language_info": {
   "codemirror_mode": {
    "name": "ipython",
    "version": 3
   },
   "file_extension": ".py",
   "mimetype": "text/x-python",
   "name": "python",
   "nbconvert_exporter": "python",
   "pygments_lexer": "ipython3",
   "version": "3.10.13"
  }
 },
 "nbformat": 4,
 "nbformat_minor": 5
}
