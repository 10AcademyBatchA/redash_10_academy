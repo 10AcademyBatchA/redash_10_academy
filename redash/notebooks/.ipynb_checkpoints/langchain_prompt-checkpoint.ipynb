{
 "cells": [
  {
   "cell_type": "code",
   "execution_count": 9,
   "id": "7125ab33",
   "metadata": {},
   "outputs": [
    {
     "name": "stdout",
     "output_type": "stream",
     "text": [
      "Defaulting to user installation because normal site-packages is not writeable\n",
      "Requirement already satisfied: psycopg2-binary in /home/fanuel-data/.local/lib/python3.10/site-packages (2.9.9)\n"
     ]
    }
   ],
   "source": [
    "import sys\n",
    "!{sys.executable} -m pip install psycopg2-binary"
   ]
  },
  {
   "cell_type": "code",
   "execution_count": 23,
   "id": "8bb5f448",
   "metadata": {},
   "outputs": [
    {
     "data": {
      "text/plain": [
       "True"
      ]
     },
     "execution_count": 23,
     "metadata": {},
     "output_type": "execute_result"
    }
   ],
   "source": [
    "from sqlalchemy import create_engine\n",
    "import pandas as pd\n",
    "import psycopg2\n",
    "import os\n",
    "from dotenv import load_dotenv\n",
    "# api_key = os.environ.get(\"OPENAI_API_KEY\")\n",
    "# os.environ['OPENAI_API_KEY'] = api_key\n",
    "load_dotenv()"
   ]
  },
  {
   "cell_type": "code",
   "execution_count": 25,
   "id": "ce3b5324",
   "metadata": {
    "scrolled": true
   },
   "outputs": [
    {
     "data": {
      "text/html": [
       "<div>\n",
       "<style scoped>\n",
       "    .dataframe tbody tr th:only-of-type {\n",
       "        vertical-align: middle;\n",
       "    }\n",
       "\n",
       "    .dataframe tbody tr th {\n",
       "        vertical-align: top;\n",
       "    }\n",
       "\n",
       "    .dataframe thead th {\n",
       "        text-align: right;\n",
       "    }\n",
       "</style>\n",
       "<table border=\"1\" class=\"dataframe\">\n",
       "  <thead>\n",
       "    <tr style=\"text-align: right;\">\n",
       "      <th></th>\n",
       "      <th>id</th>\n",
       "      <th>created_at</th>\n",
       "      <th>name</th>\n",
       "    </tr>\n",
       "  </thead>\n",
       "  <tbody>\n",
       "    <tr>\n",
       "      <th>0</th>\n",
       "      <td>1</td>\n",
       "      <td>2024-01-05 19:20:04.614828</td>\n",
       "      <td>fanuel</td>\n",
       "    </tr>\n",
       "    <tr>\n",
       "      <th>1</th>\n",
       "      <td>2</td>\n",
       "      <td>2024-01-05 19:20:17.595526</td>\n",
       "      <td>Mickiyas</td>\n",
       "    </tr>\n",
       "  </tbody>\n",
       "</table>\n",
       "</div>"
      ],
      "text/plain": [
       "   id                 created_at      name\n",
       "0   1 2024-01-05 19:20:04.614828    fanuel\n",
       "1   2 2024-01-05 19:20:17.595526  Mickiyas"
      ]
     },
     "execution_count": 25,
     "metadata": {},
     "output_type": "execute_result"
    }
   ],
   "source": [
    "db_host = os.getenv(\"POSTGRES_HOST\")\n",
    "db_user = os.getenv(\"POSTGRES_USER\")\n",
    "db_port = os.getenv(\"POSTGRES_PORT\")\n",
    "db_database = os.getenv(\"POSTGRES_DB\")\n",
    "\n",
    "connection_params = {\n",
    "  \"host\": db_host,\n",
    "  \"user\": db_user,\n",
    "  \"port\": db_port,\n",
    "  'password': '',\n",
    "  \"database\":db_database\n",
    "}\n",
    "engine = create_engine(f\"postgresql+psycopg2://{connection_params['user']}:{connection_params['password']}@{connection_params['host']}:{connection_params['port']}/{connection_params['database']}\")\n",
    "# if connection:\n",
    "query = \"SELECT * FROM sample_table;\"\n",
    "df = pd.read_sql_query(query, engine)\n",
    "df"
   ]
  },
  {
   "cell_type": "code",
   "execution_count": 12,
   "id": "8d90299b",
   "metadata": {
    "scrolled": true
   },
   "outputs": [
    {
     "name": "stdout",
     "output_type": "stream",
     "text": [
      "Defaulting to user installation because normal site-packages is not writeable\n",
      "Requirement already satisfied: langchain in /home/fanuel-data/.local/lib/python3.10/site-packages (0.0.353)\n",
      "Requirement already satisfied: langchain-experimental in /home/fanuel-data/.local/lib/python3.10/site-packages (0.0.47)\n",
      "Requirement already satisfied: openai in /home/fanuel-data/.local/lib/python3.10/site-packages (1.6.1)\n",
      "Requirement already satisfied: jsonpatch<2.0,>=1.33 in /home/fanuel-data/.local/lib/python3.10/site-packages (from langchain) (1.33)\n",
      "Requirement already satisfied: tenacity<9.0.0,>=8.1.0 in /home/fanuel-data/.local/lib/python3.10/site-packages (from langchain) (8.2.3)\n",
      "Requirement already satisfied: async-timeout<5.0.0,>=4.0.0 in /home/fanuel-data/.local/lib/python3.10/site-packages (from langchain) (4.0.3)\n",
      "Requirement already satisfied: langchain-community<0.1,>=0.0.2 in /home/fanuel-data/.local/lib/python3.10/site-packages (from langchain) (0.0.7)\n",
      "Requirement already satisfied: dataclasses-json<0.7,>=0.5.7 in /home/fanuel-data/.local/lib/python3.10/site-packages (from langchain) (0.6.3)\n",
      "Requirement already satisfied: SQLAlchemy<3,>=1.4 in /home/fanuel-data/.local/lib/python3.10/site-packages (from langchain) (2.0.24)\n",
      "Requirement already satisfied: aiohttp<4.0.0,>=3.8.3 in /home/fanuel-data/.local/lib/python3.10/site-packages (from langchain) (3.9.1)\n",
      "Requirement already satisfied: numpy<2,>=1 in /home/fanuel-data/.local/lib/python3.10/site-packages (from langchain) (1.26.3)\n",
      "Requirement already satisfied: pydantic<3,>=1 in /home/fanuel-data/.local/lib/python3.10/site-packages (from langchain) (2.5.3)\n",
      "Requirement already satisfied: PyYAML>=5.3 in /usr/lib/python3/dist-packages (from langchain) (5.4.1)\n",
      "Requirement already satisfied: requests<3,>=2 in /usr/lib/python3/dist-packages (from langchain) (2.25.1)\n",
      "Requirement already satisfied: langsmith<0.1.0,>=0.0.70 in /home/fanuel-data/.local/lib/python3.10/site-packages (from langchain) (0.0.75)\n",
      "Requirement already satisfied: langchain-core<0.2,>=0.1.4 in /home/fanuel-data/.local/lib/python3.10/site-packages (from langchain) (0.1.4)\n",
      "Requirement already satisfied: anyio<5,>=3.5.0 in /home/fanuel-data/.local/lib/python3.10/site-packages (from openai) (4.2.0)\n",
      "Requirement already satisfied: sniffio in /home/fanuel-data/.local/lib/python3.10/site-packages (from openai) (1.3.0)\n",
      "Requirement already satisfied: typing-extensions<5,>=4.7 in /home/fanuel-data/.local/lib/python3.10/site-packages (from openai) (4.9.0)\n",
      "Requirement already satisfied: httpx<1,>=0.23.0 in /home/fanuel-data/.local/lib/python3.10/site-packages (from openai) (0.26.0)\n",
      "Requirement already satisfied: tqdm>4 in /home/fanuel-data/.local/lib/python3.10/site-packages (from openai) (4.66.1)\n",
      "Requirement already satisfied: distro<2,>=1.7.0 in /usr/lib/python3/dist-packages (from openai) (1.7.0)\n",
      "Requirement already satisfied: attrs>=17.3.0 in /usr/lib/python3/dist-packages (from aiohttp<4.0.0,>=3.8.3->langchain) (21.2.0)\n",
      "Requirement already satisfied: multidict<7.0,>=4.5 in /home/fanuel-data/.local/lib/python3.10/site-packages (from aiohttp<4.0.0,>=3.8.3->langchain) (6.0.4)\n",
      "Requirement already satisfied: frozenlist>=1.1.1 in /home/fanuel-data/.local/lib/python3.10/site-packages (from aiohttp<4.0.0,>=3.8.3->langchain) (1.4.1)\n",
      "Requirement already satisfied: aiosignal>=1.1.2 in /home/fanuel-data/.local/lib/python3.10/site-packages (from aiohttp<4.0.0,>=3.8.3->langchain) (1.3.1)\n",
      "Requirement already satisfied: yarl<2.0,>=1.0 in /home/fanuel-data/.local/lib/python3.10/site-packages (from aiohttp<4.0.0,>=3.8.3->langchain) (1.9.4)\n",
      "Requirement already satisfied: exceptiongroup>=1.0.2 in /home/fanuel-data/.local/lib/python3.10/site-packages (from anyio<5,>=3.5.0->openai) (1.2.0)\n",
      "Requirement already satisfied: idna>=2.8 in /usr/lib/python3/dist-packages (from anyio<5,>=3.5.0->openai) (3.3)\n",
      "Requirement already satisfied: typing-inspect<1,>=0.4.0 in /home/fanuel-data/.local/lib/python3.10/site-packages (from dataclasses-json<0.7,>=0.5.7->langchain) (0.9.0)\n",
      "Requirement already satisfied: marshmallow<4.0.0,>=3.18.0 in /home/fanuel-data/.local/lib/python3.10/site-packages (from dataclasses-json<0.7,>=0.5.7->langchain) (3.20.1)\n",
      "Requirement already satisfied: certifi in /usr/lib/python3/dist-packages (from httpx<1,>=0.23.0->openai) (2020.6.20)\n",
      "Requirement already satisfied: httpcore==1.* in /home/fanuel-data/.local/lib/python3.10/site-packages (from httpx<1,>=0.23.0->openai) (1.0.2)\n",
      "Requirement already satisfied: h11<0.15,>=0.13 in /home/fanuel-data/.local/lib/python3.10/site-packages (from httpcore==1.*->httpx<1,>=0.23.0->openai) (0.14.0)\n",
      "Requirement already satisfied: jsonpointer>=1.9 in /home/fanuel-data/.local/lib/python3.10/site-packages (from jsonpatch<2.0,>=1.33->langchain) (2.4)\n",
      "Requirement already satisfied: packaging<24.0,>=23.2 in /home/fanuel-data/.local/lib/python3.10/site-packages (from langchain-core<0.2,>=0.1.4->langchain) (23.2)\n",
      "Requirement already satisfied: annotated-types>=0.4.0 in /home/fanuel-data/.local/lib/python3.10/site-packages (from pydantic<3,>=1->langchain) (0.6.0)\n",
      "Requirement already satisfied: pydantic-core==2.14.6 in /home/fanuel-data/.local/lib/python3.10/site-packages (from pydantic<3,>=1->langchain) (2.14.6)\n",
      "Requirement already satisfied: greenlet!=0.4.17 in /home/fanuel-data/.local/lib/python3.10/site-packages (from SQLAlchemy<3,>=1.4->langchain) (3.0.3)\n",
      "Requirement already satisfied: mypy-extensions>=0.3.0 in /home/fanuel-data/.local/lib/python3.10/site-packages (from typing-inspect<1,>=0.4.0->dataclasses-json<0.7,>=0.5.7->langchain) (1.0.0)\n"
     ]
    }
   ],
   "source": [
    "import sys\n",
    "!{sys.executable} -m pip install langchain langchain-experimental openai"
   ]
  },
  {
   "cell_type": "code",
   "execution_count": 13,
   "id": "c2611a93",
   "metadata": {},
   "outputs": [],
   "source": [
    "from langchain_community.llms import OpenAI\n",
    "from langchain_community.utilities import SQLDatabase\n",
    "from langchain_experimental.sql import SQLDatabaseChain"
   ]
  },
  {
   "cell_type": "code",
   "execution_count": 33,
   "id": "9606df11",
   "metadata": {
    "scrolled": true
   },
   "outputs": [
    {
     "name": "stdout",
     "output_type": "stream",
     "text": [
      "\n",
      "\n",
      "\u001b[1m> Entering new SQLDatabaseChain chain...\u001b[0m\n",
      "what is the date with the most views from all tables\n",
      "SQLQuery:\u001b[32;1m\u001b[1;3mSELECT date, SUM(views) AS total_views FROM (SELECT date, views FROM content_type_chart UNION ALL SELECT date, views FROM device_type_chart) AS combined GROUP BY date ORDER BY total_views DESC LIMIT 1;\u001b[0m\n",
      "SQLResult: \u001b[33;1m\u001b[1;3m[('2022-09-26', Decimal('734'))]\u001b[0m\n",
      "Answer:\u001b[32;1m\u001b[1;3mThe date with the most views from all tables is 2022-09-26.\u001b[0m\n",
      "\u001b[1m> Finished chain.\u001b[0m\n",
      "answer: The date with the most views from all tables is 2022-09-26.\n"
     ]
    }
   ],
   "source": [
    "db = SQLDatabase.from_uri(\n",
    "    f\"postgresql+psycopg2://{connection_params['user']}:{connection_params['password']}@{connection_params['host']}:{connection_params['port']}/{connection_params['database']}\",\n",
    ")\n",
    "llm = OpenAI(temperature=0, verbose=True,openai_api_key=os.environ.get(\"OPENAI_API_KEY\"))\n",
    "db_chain = SQLDatabaseChain.from_llm(llm, db, verbose=True)\n",
    "answer = db_chain.run(\"what is the date with the most views from all tables\")\n",
    "# print(\"answer: \"+answer)\n"
   ]
  },
  {
   "cell_type": "code",
   "execution_count": 34,
   "id": "0d37a54e",
   "metadata": {},
   "outputs": [
    {
     "name": "stdout",
     "output_type": "stream",
     "text": [
      "\n",
      "\n",
      "\u001b[1m> Entering new SQLDatabaseChain chain...\u001b[0m\n",
      "what is the over all view count for each database\n",
      "SQLQuery:\u001b[32;1m\u001b[1;3mSELECT SUM(\"Views\") AS \"Total Views\" FROM cities_chart UNION SELECT SUM(views) AS \"Total Views\" FROM content_type_chart UNION SELECT SUM(views) AS \"Total Views\" FROM device_type_chart\u001b[0m\n",
      "SQLResult: \u001b[33;1m\u001b[1;3m[(Decimal('26541'),), (Decimal('26625'),), (Decimal('2686'),)]\u001b[0m\n",
      "Answer:\u001b[32;1m\u001b[1;3mThe overall view count for each database is 26541 for cities_chart, 26625 for content_type_chart, and 2686 for device_type_chart.\u001b[0m\n",
      "\u001b[1m> Finished chain.\u001b[0m\n"
     ]
    }
   ],
   "source": [
    "answer = db_chain.run(\"what is the over all view count for each database\")"
   ]
  }
 ],
 "metadata": {
  "kernelspec": {
   "display_name": "Python 3 (ipykernel)",
   "language": "python",
   "name": "python3"
  },
  "language_info": {
   "codemirror_mode": {
    "name": "ipython",
    "version": 3
   },
   "file_extension": ".py",
   "mimetype": "text/x-python",
   "name": "python",
   "nbconvert_exporter": "python",
   "pygments_lexer": "ipython3",
   "version": "3.10.12"
  }
 },
 "nbformat": 4,
 "nbformat_minor": 5
}
